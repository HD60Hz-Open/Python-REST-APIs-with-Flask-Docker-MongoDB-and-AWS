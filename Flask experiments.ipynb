{
 "cells": [
  {
   "cell_type": "code",
   "execution_count": null,
   "metadata": {},
   "outputs": [],
   "source": [
    "from flask import Flask, request, jsonify"
   ]
  },
  {
   "cell_type": "code",
   "execution_count": null,
   "metadata": {},
   "outputs": [],
   "source": [
    "app = Flask(__name__)"
   ]
  },
  {
   "cell_type": "code",
   "execution_count": null,
   "metadata": {},
   "outputs": [],
   "source": [
    "@app.route('/')\n",
    "#ip address listening to the '/', once get request of '/', handling the function\n",
    "def hello_world():\n",
    "    return \"Hello World\"\n",
    "\n",
    "#corresponding to xx.xx.xx.xx/there\n",
    "@app.routue('/there')\n",
    "def hello_there():\n",
    "    return \"slash there\"\n",
    "\n",
    "#POST\n",
    "@app.routue('/add', methods=[\"POST\"]) #by default support GET\n",
    "def add_num():\n",
    "    #get the posted json using request\n",
    "    dataDict = request.get_json()\n",
    "    \n",
    "    #get json like a dictionary, then retrive the data from the dictionary\n",
    "    x = dataDict['x']\n",
    "    y = dataDict['y']\n",
    "    z = x + y\n",
    "    \n",
    "    #return json\n",
    "    retJson = {\n",
    "        'z': z\n",
    "    }\n",
    "    \n",
    "    return jsonify(retJson)"
   ]
  },
  {
   "cell_type": "code",
   "execution_count": null,
   "metadata": {},
   "outputs": [],
   "source": [
    "if __name__ == \"__main__\":\n",
    "    app.run()"
   ]
  }
 ],
 "metadata": {
  "kernelspec": {
   "display_name": "Python 3",
   "language": "python",
   "name": "python3"
  },
  "language_info": {
   "codemirror_mode": {
    "name": "ipython",
    "version": 3
   },
   "file_extension": ".py",
   "mimetype": "text/x-python",
   "name": "python",
   "nbconvert_exporter": "python",
   "pygments_lexer": "ipython3",
   "version": "3.6.5"
  }
 },
 "nbformat": 4,
 "nbformat_minor": 2
}
